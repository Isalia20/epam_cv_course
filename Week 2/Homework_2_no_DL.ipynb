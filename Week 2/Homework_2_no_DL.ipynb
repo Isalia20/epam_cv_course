{
  "nbformat": 4,
  "nbformat_minor": 0,
  "metadata": {
    "colab": {
      "provenance": [],
      "machine_shape": "hm"
    },
    "kernelspec": {
      "name": "python3",
      "display_name": "Python 3"
    },
    "language_info": {
      "name": "python"
    },
    "gpuClass": "standard"
  },
  "cells": [
    {
      "cell_type": "code",
      "source": [
        "!pip install gdown"
      ],
      "metadata": {
        "id": "IWBM7Lz7r3Cu"
      },
      "execution_count": null,
      "outputs": []
    },
    {
      "cell_type": "code",
      "source": [
        "!gdown --fuzzy https://drive.google.com/file/d/1VSIMAR3-2fXTEy-QdY2d0M_-aC1aXfWp/view\n",
        "!unzip Classification_data.zip"
      ],
      "metadata": {
        "id": "Ey1d32O5sEEd"
      },
      "execution_count": null,
      "outputs": []
    },
    {
      "cell_type": "code",
      "source": [
        "import os\n",
        "import cv2 as cv\n",
        "import random\n",
        "import numpy as np\n",
        "import xgboost as xgb\n",
        "from pathlib import Path\n",
        "from sklearn.model_selection import train_test_split\n",
        "from sklearn.preprocessing import StandardScaler\n",
        "from sklearn.neighbors import KNeighborsClassifier\n",
        "from sklearn.svm import SVC\n",
        "from sklearn.linear_model import LogisticRegression\n",
        "from sklearn.metrics import accuracy_score, precision_score, recall_score, f1_score"
      ],
      "metadata": {
        "id": "uwEeLwYWsV8r"
      },
      "execution_count": null,
      "outputs": []
    },
    {
      "cell_type": "code",
      "source": [
        "os.getcwd()\n",
        "os.chdir(\"Classification_data\")"
      ],
      "metadata": {
        "id": "uyP9qpUFtwNS"
      },
      "execution_count": null,
      "outputs": []
    },
    {
      "cell_type": "code",
      "source": [
        "# Get image names and image labels in the list\n",
        "def get_image_names_and_labels(split):\n",
        "  image_names_all = []\n",
        "  image_labels_all = []\n",
        "\n",
        "  for folder in os.listdir(split):\n",
        "    image_labels = []\n",
        "    image_names = os.listdir(Path(split) / folder)\n",
        "    image_labels.extend([folder] * len(image_names))\n",
        "    image_names_all.extend(image_names)\n",
        "    image_labels_all.extend(image_labels) \n",
        "  return image_names_all, image_labels_all \n",
        "\n",
        "def get_images(image_names_all, \n",
        "               image_labels_all, \n",
        "               resized_img_width, \n",
        "               resized_img_height,\n",
        "               split):\n",
        "  images = [cv.resize(cv.imread(str(Path(split) / image_labels_all[i] / image_names_all[i]), cv.IMREAD_GRAYSCALE), \n",
        "                    (resized_img_width, resized_img_height)) for i in range(len(image_labels_all))]\n",
        "  return images\n"
      ],
      "metadata": {
        "id": "ZBYguqvLv9oD"
      },
      "execution_count": null,
      "outputs": []
    },
    {
      "cell_type": "code",
      "source": [
        "image_names_train, image_labels_train = get_image_names_and_labels(\"train\")\n",
        "images_train = get_images(image_names_train, image_labels_train, 224, 224, \"train\")\n",
        "image_names_test, image_labels_test = get_image_names_and_labels(\"test\")\n",
        "images_test = get_images(image_names_test, image_labels_test, 224, 224, \"test\")"
      ],
      "metadata": {
        "id": "aefeiCjnyJ6d"
      },
      "execution_count": null,
      "outputs": []
    },
    {
      "cell_type": "code",
      "source": [
        "block_size = (2, 2)\n",
        "cell_size = (8, 8)\n",
        "resize_shape = (224, 224)\n",
        "window_size = resize_shape\n",
        "block_stride = cell_size\n",
        "\n",
        "hog_descriptor = cv.HOGDescriptor(window_size, \n",
        "                                  (block_size[0] * cell_size[0], block_size[1] * cell_size[1]), \n",
        "                                  block_stride, \n",
        "                                  cell_size, \n",
        "                                  9)"
      ],
      "metadata": {
        "id": "LunC_0ObElwF"
      },
      "execution_count": null,
      "outputs": []
    },
    {
      "cell_type": "code",
      "source": [
        "for i in range(len(images_train)):\n",
        "    images_train[i] = hog_descriptor.compute(images_train[i])\n",
        "\n",
        "for i in range(len(images_test)):\n",
        "    images_test[i] = hog_descriptor.compute(images_test[i])"
      ],
      "metadata": {
        "id": "aXdiYDeyEvvM"
      },
      "execution_count": null,
      "outputs": []
    },
    {
      "cell_type": "code",
      "source": [
        "labels_set = {label:index for index, label in enumerate(set(image_labels_train))}"
      ],
      "metadata": {
        "id": "fbKYC1zRT3Vg"
      },
      "execution_count": null,
      "outputs": []
    },
    {
      "cell_type": "code",
      "source": [
        "image_labels_train = [labels_set[image_labels_train[i]] for i in range(len(image_labels_train))]\n",
        "image_labels_test = [labels_set[image_labels_test[i]] for i in range(len(image_labels_test))]"
      ],
      "metadata": {
        "id": "NZhN7UOzUSHN"
      },
      "execution_count": null,
      "outputs": []
    },
    {
      "cell_type": "code",
      "source": [
        "# Convert lists to numpy\n",
        "X_train = np.array(images_train)\n",
        "y_train = np.array(image_labels_train)\n",
        "X_test = np.array(images_test)\n",
        "y_test = np.array(image_labels_test)"
      ],
      "metadata": {
        "id": "JDAhWfxey6Ss"
      },
      "execution_count": null,
      "outputs": []
    },
    {
      "cell_type": "code",
      "source": [
        "print(X_train.shape)\n",
        "print(y_train.shape)\n",
        "print(X_test.shape)\n",
        "print(y_test.shape)"
      ],
      "metadata": {
        "colab": {
          "base_uri": "https://localhost:8080/"
        },
        "id": "Ski--3fy0ic5",
        "outputId": "7848f8f4-8baf-4c29-aedd-503e6f4d2fa0"
      },
      "execution_count": null,
      "outputs": [
        {
          "output_type": "stream",
          "name": "stdout",
          "text": [
            "(14034, 26244)\n",
            "(14034,)\n",
            "(3000, 26244)\n",
            "(3000,)\n"
          ]
        }
      ]
    },
    {
      "cell_type": "code",
      "source": [
        "# Standardize the features\n",
        "scaler = StandardScaler()\n",
        "X_train_standardized = scaler.fit_transform(X_train)\n",
        "X_test_standardized = scaler.transform(X_test)"
      ],
      "metadata": {
        "id": "zUTR05pG1CJU"
      },
      "execution_count": null,
      "outputs": []
    },
    {
      "cell_type": "code",
      "source": [
        "# KNN Classifier\n",
        "knn = KNeighborsClassifier(n_neighbors=5)\n",
        "knn.fit(X_train_standardized, y_train)\n",
        "y_pred_knn = knn.predict(X_test_standardized)"
      ],
      "metadata": {
        "id": "Osl52psQITO4"
      },
      "execution_count": null,
      "outputs": []
    },
    {
      "cell_type": "code",
      "source": [
        "# Linear Classifier\n",
        "linear_classifier = LogisticRegression(max_iter=1_000)\n",
        "linear_classifier.fit(X_train_standardized, y_train )\n",
        "y_pred_linear = linear_classifier.predict(X_test_standardized)"
      ],
      "metadata": {
        "colab": {
          "base_uri": "https://localhost:8080/"
        },
        "id": "djzbmHQ6NW3S",
        "outputId": "ea1dc847-77af-4294-a847-bd8ab3f163f9"
      },
      "execution_count": null,
      "outputs": [
        {
          "output_type": "stream",
          "name": "stderr",
          "text": [
            "/usr/local/lib/python3.9/dist-packages/sklearn/linear_model/_logistic.py:458: ConvergenceWarning: lbfgs failed to converge (status=1):\n",
            "STOP: TOTAL NO. of ITERATIONS REACHED LIMIT.\n",
            "\n",
            "Increase the number of iterations (max_iter) or scale the data as shown in:\n",
            "    https://scikit-learn.org/stable/modules/preprocessing.html\n",
            "Please also refer to the documentation for alternative solver options:\n",
            "    https://scikit-learn.org/stable/modules/linear_model.html#logistic-regression\n",
            "  n_iter_i = _check_optimize_result(\n"
          ]
        }
      ]
    },
    {
      "cell_type": "code",
      "source": [
        "def calc_metrics(y_test, y_pred):\n",
        "  accuracy = accuracy_score(y_test, y_pred)\n",
        "  precision = precision_score(y_test, y_pred, average=\"weighted\")\n",
        "  recall = recall_score(y_test, y_pred, average=\"weighted\")\n",
        "  f1 = f1_score(y_test, y_pred, average=\"weighted\")\n",
        "  return accuracy, precision, recall, f1"
      ],
      "metadata": {
        "id": "DmmyCTUMcpwh"
      },
      "execution_count": null,
      "outputs": []
    },
    {
      "cell_type": "code",
      "source": [
        "# Metrics KNN\n",
        "accuracy_knn, precision_knn, recall_knn, f1_knn = calc_metrics(y_test, y_pred_knn)\n",
        "# Metrics Linear\n",
        "accuracy_linear, precision_linear, recall_linear, f1_linear = calc_metrics(y_test, y_pred_linear)"
      ],
      "metadata": {
        "id": "J_PVu50ocVWq"
      },
      "execution_count": null,
      "outputs": []
    },
    {
      "cell_type": "code",
      "source": [
        "# KNN metrics\n",
        "print(accuracy_knn, precision_knn, recall_knn, f1_knn)\n",
        "# Linear metrics\n",
        "print(accuracy_linear, precision_linear, recall_linear, f1_linear)"
      ],
      "metadata": {
        "colab": {
          "base_uri": "https://localhost:8080/"
        },
        "id": "RRCYSnDec_WA",
        "outputId": "48d3e205-8866-4ded-bd04-a18a50bfce11"
      },
      "execution_count": null,
      "outputs": [
        {
          "output_type": "stream",
          "name": "stdout",
          "text": [
            "0.36933333333333335 0.5896920123022746 0.36933333333333335 0.25652627531588273\n",
            "0.6696666666666666 0.6702342648525066 0.6696666666666666 0.6688538438297611\n"
          ]
        }
      ]
    },
    {
      "cell_type": "code",
      "source": [],
      "metadata": {
        "id": "SHJvX1Avkw7h"
      },
      "execution_count": null,
      "outputs": []
    }
  ]
}